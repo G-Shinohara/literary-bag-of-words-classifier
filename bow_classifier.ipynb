{
 "cells": [
  {
   "cell_type": "markdown",
   "metadata": {},
   "source": [
    "# Importação de dados:"
   ]
  },
  {
   "cell_type": "code",
   "execution_count": 50,
   "metadata": {},
   "outputs": [],
   "source": [
    "import os\n",
    "import PyPDF2\n",
    "from sklearn.feature_extraction.text import TfidfVectorizer\n",
    "from sklearn.model_selection import train_test_split\n",
    "from nltk.corpus import stopwords\n",
    "from nltk.tokenize import word_tokenize\n",
    "import nltk"
   ]
  },
  {
   "cell_type": "markdown",
   "metadata": {},
   "source": [
    "### Baixar recursos do NLTK (apenas na primeira execução)"
   ]
  },
  {
   "cell_type": "code",
   "execution_count": 51,
   "metadata": {},
   "outputs": [
    {
     "name": "stderr",
     "output_type": "stream",
     "text": [
      "[nltk_data] Downloading package punkt to /home/shinohara/nltk_data...\n",
      "[nltk_data]   Package punkt is already up-to-date!\n",
      "[nltk_data] Downloading package punkt_tab to\n",
      "[nltk_data]     /home/shinohara/nltk_data...\n",
      "[nltk_data]   Package punkt_tab is already up-to-date!\n",
      "[nltk_data] Downloading package stopwords to\n",
      "[nltk_data]     /home/shinohara/nltk_data...\n",
      "[nltk_data]   Package stopwords is already up-to-date!\n"
     ]
    },
    {
     "data": {
      "text/plain": [
       "True"
      ]
     },
     "execution_count": 51,
     "metadata": {},
     "output_type": "execute_result"
    }
   ],
   "source": [
    "nltk.download('punkt')\n",
    "nltk.download('punkt_tab')\n",
    "nltk.download('stopwords')"
   ]
  },
  {
   "cell_type": "markdown",
   "metadata": {},
   "source": [
    "### Função para extrair texto de PDFs"
   ]
  },
  {
   "cell_type": "code",
   "execution_count": 52,
   "metadata": {},
   "outputs": [],
   "source": [
    "def pdf_para_txt(caminho_pdf):\n",
    "\twith open(caminho_pdf, 'rb') as f:\n",
    "\t\tleitor = PyPDF2.PdfReader(f)\n",
    "\t\ttexto = \"\"\n",
    "\t\tfor pagina in range(len(leitor.pages)):\n",
    "\t\t\ttexto += leitor.pages[pagina].extract_text()\n",
    "\treturn texto"
   ]
  },
  {
   "cell_type": "markdown",
   "metadata": {},
   "source": [
    "### Diretórios com os PDFs"
   ]
  },
  {
   "cell_type": "code",
   "execution_count": 53,
   "metadata": {},
   "outputs": [],
   "source": [
    "diretorios = {\n",
    "\t'poesia': 'pdfs/poesia/',\n",
    "\t'prosa': 'pdfs/prosa/',\n",
    "\t'jornalismo': 'pdfs/jornalismo/'\n",
    "}"
   ]
  },
  {
   "cell_type": "markdown",
   "metadata": {},
   "source": [
    "### Função para limpar e remover stopwords"
   ]
  },
  {
   "cell_type": "code",
   "execution_count": 54,
   "metadata": {},
   "outputs": [],
   "source": [
    "def limpar_texto(texto):\n",
    "\tstop_words = set(stopwords.words('english'))\n",
    "\tpalavras = word_tokenize(texto.lower())\n",
    "\tpalavras_limpa = [palavra for palavra in palavras\n",
    "\t\t\t\t\tif palavra.isalnum()\n",
    "\t\t\t\t\tand palavra not in stop_words]\n",
    "\treturn \" \".join(palavras_limpa)"
   ]
  },
  {
   "cell_type": "markdown",
   "metadata": {},
   "source": [
    "### Extraindo textos e gerando classes"
   ]
  },
  {
   "cell_type": "code",
   "execution_count": 55,
   "metadata": {},
   "outputs": [],
   "source": [
    "textos = []\n",
    "classes = []\n",
    "\n",
    "for classe, caminho in diretorios.items():\n",
    "\tfor arquivo in os.listdir(caminho):\n",
    "\t\tif arquivo.endswith('.pdf'):\n",
    "\t\t\ttexto = pdf_para_txt(os.path.join(caminho, arquivo))\n",
    "\t\t\ttexto_limpo = limpar_texto(texto)\n",
    "\t\t\ttextos.append(texto_limpo)\n",
    "\t\t\tclasses.append(classe)"
   ]
  },
  {
   "cell_type": "markdown",
   "metadata": {},
   "source": [
    "### Criando a matriz Bag of Words"
   ]
  },
  {
   "cell_type": "code",
   "execution_count": 56,
   "metadata": {},
   "outputs": [
    {
     "name": "stdout",
     "output_type": "stream",
     "text": [
      "Matriz BoW:  [[0.         0.         0.         ... 0.         0.         0.        ]\n",
      " [0.         0.         0.         ... 0.         0.         0.        ]\n",
      " [0.         0.         0.         ... 0.         0.         0.        ]\n",
      " ...\n",
      " [0.09839366 0.         0.         ... 0.         0.         0.        ]\n",
      " [0.         0.         0.         ... 0.         0.         0.        ]\n",
      " [0.         0.         0.         ... 0.         0.         0.        ]]\n",
      "Vocabulário:  ['00' '000' '0019201' ... 'ῥέοντες' 'ῥαίνω' 'ῥώμη']\n",
      "Classes:  ['poesia', 'poesia', 'poesia', 'poesia', 'poesia', 'poesia', 'poesia', 'poesia', 'poesia', 'poesia', 'poesia', 'poesia', 'poesia', 'poesia', 'poesia', 'poesia', 'poesia', 'poesia', 'poesia', 'poesia', 'poesia', 'poesia', 'poesia', 'poesia', 'poesia', 'poesia', 'poesia', 'poesia', 'poesia', 'poesia', 'poesia', 'poesia', 'poesia', 'poesia', 'poesia', 'poesia', 'poesia', 'poesia', 'poesia', 'poesia', 'poesia', 'poesia', 'poesia', 'poesia', 'poesia', 'poesia', 'poesia', 'poesia', 'poesia', 'poesia', 'poesia', 'poesia', 'poesia', 'poesia', 'poesia', 'poesia', 'poesia', 'poesia', 'poesia', 'poesia', 'poesia', 'poesia', 'poesia', 'poesia', 'poesia', 'poesia', 'poesia', 'poesia', 'poesia', 'poesia', 'poesia', 'poesia', 'poesia', 'poesia', 'poesia', 'poesia', 'poesia', 'poesia', 'poesia', 'poesia', 'poesia', 'poesia', 'poesia', 'poesia', 'poesia', 'poesia', 'poesia', 'poesia', 'poesia', 'poesia', 'poesia', 'poesia', 'poesia', 'poesia', 'poesia', 'poesia', 'poesia', 'poesia', 'poesia', 'poesia', 'prosa', 'prosa', 'prosa', 'prosa', 'prosa', 'prosa', 'prosa', 'prosa', 'prosa', 'prosa', 'prosa', 'prosa', 'prosa', 'prosa', 'prosa', 'prosa', 'prosa', 'prosa', 'prosa', 'prosa', 'prosa', 'prosa', 'prosa', 'prosa', 'prosa', 'prosa', 'prosa', 'prosa', 'prosa', 'prosa', 'prosa', 'prosa', 'prosa', 'prosa', 'prosa', 'prosa', 'prosa', 'prosa', 'prosa', 'prosa', 'prosa', 'prosa', 'prosa', 'prosa', 'prosa', 'prosa', 'prosa', 'prosa', 'prosa', 'prosa', 'prosa', 'prosa', 'prosa', 'prosa', 'prosa', 'prosa', 'prosa', 'prosa', 'prosa', 'prosa', 'prosa', 'prosa', 'prosa', 'prosa', 'prosa', 'prosa', 'prosa', 'prosa', 'prosa', 'prosa', 'prosa', 'prosa', 'prosa', 'prosa', 'prosa', 'prosa', 'prosa', 'prosa', 'prosa', 'prosa', 'prosa', 'prosa', 'prosa', 'prosa', 'prosa', 'prosa', 'prosa', 'prosa', 'prosa', 'prosa', 'prosa', 'prosa', 'prosa', 'prosa', 'prosa', 'prosa', 'prosa', 'prosa', 'prosa', 'prosa', 'jornalismo']\n"
     ]
    }
   ],
   "source": [
    "vectorizer = TfidfVectorizer()\n",
    "X = vectorizer.fit_transform(textos)\n",
    "print(\"Matriz BoW: \", X.toarray())\n",
    "print(\"Vocabulário: \", vectorizer.get_feature_names_out())\n",
    "print(\"Classes: \", classes)"
   ]
  },
  {
   "cell_type": "markdown",
   "metadata": {},
   "source": [
    "### Divisão dos dados em treino e teste"
   ]
  },
  {
   "cell_type": "code",
   "execution_count": 57,
   "metadata": {},
   "outputs": [],
   "source": [
    "X_train, X_test, y_train, y_test = train_test_split(X, classes, test_size=0.3, random_state=42)"
   ]
  }
 ],
 "metadata": {
  "kernelspec": {
   "display_name": "Python 3",
   "language": "python",
   "name": "python3"
  },
  "language_info": {
   "codemirror_mode": {
    "name": "ipython",
    "version": 3
   },
   "file_extension": ".py",
   "mimetype": "text/x-python",
   "name": "python",
   "nbconvert_exporter": "python",
   "pygments_lexer": "ipython3",
   "version": "3.13.0"
  }
 },
 "nbformat": 4,
 "nbformat_minor": 2
}
