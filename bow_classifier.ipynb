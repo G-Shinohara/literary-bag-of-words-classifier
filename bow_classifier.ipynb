{
 "cells": [
  {
   "cell_type": "markdown",
   "metadata": {},
   "source": [
    "# Importação de dados:"
   ]
  },
  {
   "cell_type": "code",
   "execution_count": null,
   "metadata": {},
   "outputs": [],
   "source": [
    "import os\n",
    "import PyPDF2\n",
    "from sklearn.feature_extraction.text import TfidfVectorizer\n",
    "from sklearn.model_selection import train_test_split\n",
    "from nltk.corpus import stopwords\n",
    "from nltk.tokenize import word_tokenize\n",
    "import nltk"
   ]
  },
  {
   "cell_type": "markdown",
   "metadata": {},
   "source": [
    "### Baixar recursos do NLTK (apenas na primeira execução)"
   ]
  },
  {
   "cell_type": "code",
   "execution_count": null,
   "metadata": {},
   "outputs": [],
   "source": [
    "nltk.download('punkt')\n",
    "nltk.download('punkt_tab')\n",
    "nltk.download('stopwords')"
   ]
  },
  {
   "cell_type": "markdown",
   "metadata": {},
   "source": [
    "### Função para extrair texto de PDFs"
   ]
  },
  {
   "cell_type": "code",
   "execution_count": null,
   "metadata": {},
   "outputs": [],
   "source": [
    "def pdf_para_txt(caminho_pdf):\n",
    "\twith open(caminho_pdf, 'rb') as f:\n",
    "\t\tleitor = PyPDF2.PdfReader(f)\n",
    "\t\ttexto = \"\"\n",
    "\t\tfor pagina in range(len(leitor.pages)):\n",
    "\t\t\ttexto += leitor.pages[pagina].extract_text()\n",
    "\treturn texto"
   ]
  },
  {
   "cell_type": "markdown",
   "metadata": {},
   "source": [
    "### Diretórios com os PDFs"
   ]
  },
  {
   "cell_type": "code",
   "execution_count": null,
   "metadata": {},
   "outputs": [],
   "source": [
    "diretorios = {\n",
    "\t'poesia': 'pdfs/poesia/',\n",
    "\t'prosa': 'pdfs/prosa/',\n",
    "\t'jornalismo': 'pdfs/jornalismo/'\n",
    "}"
   ]
  },
  {
   "cell_type": "markdown",
   "metadata": {},
   "source": [
    "### Função para limpar e remover stopwords"
   ]
  },
  {
   "cell_type": "code",
   "execution_count": null,
   "metadata": {},
   "outputs": [],
   "source": [
    "def limpar_texto(texto):\n",
    "\tstop_words = set(stopwords.words('english'))\n",
    "\tpalavras = word_tokenize(texto.lower())\n",
    "\tpalavras_limpa = [palavra for palavra in palavras\n",
    "\t\t\t\t\tif palavra.isalnum()\n",
    "\t\t\t\t\tand palavra not in stop_words]\n",
    "\treturn \" \".join(palavras_limpa)"
   ]
  },
  {
   "cell_type": "markdown",
   "metadata": {},
   "source": [
    "### Extraindo textos e gerando classes"
   ]
  },
  {
   "cell_type": "code",
   "execution_count": null,
   "metadata": {},
   "outputs": [],
   "source": [
    "textos = []\n",
    "classes = []\n",
    "\n",
    "for classe, caminho in diretorios.items():\n",
    "\tfor arquivo in os.listdir(caminho):\n",
    "\t\tif arquivo.endswith('.pdf'):\n",
    "\t\t\ttexto = pdf_para_txt(os.path.join(caminho, arquivo))\n",
    "\t\t\ttexto_limpo = limpar_texto(texto)\n",
    "\t\t\ttextos.append(texto_limpo)\n",
    "\t\t\tclasses.append(classe)"
   ]
  },
  {
   "cell_type": "markdown",
   "metadata": {},
   "source": [
    "### Criando a matriz Bag of Words"
   ]
  },
  {
   "cell_type": "code",
   "execution_count": null,
   "metadata": {},
   "outputs": [],
   "source": [
    "vectorizer = TfidfVectorizer()\n",
    "X = vectorizer.fit_transform(textos)\n",
    "print(\"Matriz BoW: \", X.toarray())\n",
    "print(\"Vocabulário: \", vectorizer.get_feature_names_out())\n",
    "print(\"Classes: \", classes)"
   ]
  },
  {
   "cell_type": "markdown",
   "metadata": {},
   "source": [
    "### Divisão dos dados em treino e teste"
   ]
  },
  {
   "cell_type": "code",
   "execution_count": null,
   "metadata": {},
   "outputs": [],
   "source": [
    "X_train, X_test, y_train, y_test = train_test_split(X, classes, test_size=0.3, random_state=42)"
   ]
  },
  {
   "cell_type": "markdown",
   "metadata": {},
   "source": [
    "# Árvore de Decisão"
   ]
  },
  {
   "cell_type": "code",
   "execution_count": null,
   "metadata": {},
   "outputs": [],
   "source": [
    "from sklearn.model_selection import StratifiedKFold, GridSearchCV, cross_validate\n",
    "from sklearn.tree import DecisionTreeClassifier\n",
    "\n",
    "SPLITS = 10\n",
    "\n",
    "skf = StratifiedKFold(n_splits=SPLITS, shuffle=True, random_state=42)\n",
    "\n",
    "dtc = DecisionTreeClassifier(random_state=42)\n",
    "\n",
    "param_grid = {\n",
    "\t'criterion': ['entropy'],\n",
    "\t'max_depth': [None, 20],\n",
    "\t'random_state': [42]\n",
    "}\n",
    "\n",
    "grid_search = GridSearchCV(dtc, param_grid, cv=skf, scoring=['f1_weighted', 'accuracy'], n_jobs=-1, refit='f1_weighted')\n",
    "grid_search.fit(X_train, y_train)\n",
    "\n",
    "print(f'Melhores parametros: {grid_search.best_params_}')\n",
    "print(f'Melhor score: {grid_search.best_score_}')\n"
   ]
  },
  {
   "cell_type": "code",
   "execution_count": null,
   "metadata": {},
   "outputs": [],
   "source": [
    "from sklearn.metrics import accuracy_score, f1_score\n",
    "\n",
    "y_pred = grid_search.best_estimator_.predict(X_test)\n",
    "\n",
    "accuracy = accuracy_score(y_test, y_pred)\n",
    "f1 = f1_score(y_test, y_pred, average='weighted')\n",
    "\n",
    "print(f'Arvore de Decisão:')\n",
    "print(f'\\tAccuracia: {accuracy:0.2}')\n",
    "print(f'\\tF1 score: {f1:0.2}')"
   ]
  },
  {
   "cell_type": "code",
   "execution_count": null,
   "metadata": {},
   "outputs": [],
   "source": [
    "scores = cross_validate(grid_search.best_estimator_, X, classes, scoring=['accuracy', 'f1_weighted'], cv=skf, return_train_score=False)\n",
    "\n",
    "for i in range(SPLITS):\n",
    "\tprint(f'Fold {i+1}:')\n",
    "\tprint(f'\\tAccuracia: {scores['test_accuracy'][i]:0.2}')\n",
    "\tprint(f'\\tF1 score: {scores['test_f1_weighted'][i]:0.2}')\n",
    "\n",
    "print(f'Media: {scores['test_accuracy'].mean():0.2}')\n",
    "print(f'Desvio Padrao: {scores['test_accuracy'].std():0.2}')\n"
   ]
  },
  {
   "cell_type": "markdown",
   "metadata": {},
   "source": [
    "# K-Nearest Neighbors"
   ]
  },
  {
   "cell_type": "code",
   "execution_count": null,
   "metadata": {},
   "outputs": [],
   "source": [
    "from sklearn.neighbors import KNeighborsClassifier\n",
    "from sklearn.model_selection import GridSearchCV\n",
    "from sklearn.metrics import accuracy_score, f1_score\n",
    "\n",
    "knc = KNeighborsClassifier()\n",
    "\n",
    "param_grid = {\n",
    "    'n_neighbors': [5, 1],\n",
    "}\n",
    "\n",
    "grid_search = GridSearchCV(knc, param_grid, cv=skf, scoring=['f1_weighted', 'accuracy'], n_jobs=-1, refit='f1_weighted')\n",
    "grid_search.fit(X_train, y_train)\n",
    "\n",
    "print(f'Melhores parametros: {grid_search.best_params_}')\n",
    "print(f'Melhor score: {grid_search.best_score_}')"
   ]
  },
  {
   "cell_type": "code",
   "execution_count": null,
   "metadata": {},
   "outputs": [],
   "source": [
    "from sklearn.metrics import accuracy_score, f1_score\n",
    "\n",
    "y_pred = grid_search.best_estimator_.predict(X_test)\n",
    "\n",
    "accuracy = accuracy_score(y_test, y_pred)\n",
    "f1 = f1_score(y_test, y_pred, average='weighted')\n",
    "\n",
    "print(f'K-Nearest Neighbors:')\n",
    "print(f'\\tAccuracia: {accuracy:0.2}')\n",
    "print(f'\\tF1 score: {f1:0.2}')"
   ]
  },
  {
   "cell_type": "code",
   "execution_count": null,
   "metadata": {},
   "outputs": [],
   "source": [
    "scores = cross_validate(grid_search.best_estimator_, X, classes, scoring=['accuracy', 'f1_weighted'], cv=skf, return_train_score=False)\n",
    "\n",
    "for i in range(SPLITS):\n",
    "\tprint(f'Fold {i+1}:')\n",
    "\tprint(f'\\tAccuracia: {scores['test_accuracy'][i]:0.2}')\n",
    "\tprint(f'\\tF1 score: {scores['test_f1_weighted'][i]:0.2}')\n",
    "\n",
    "print(f'Media: {scores['test_accuracy'].mean():0.2}')\n",
    "print(f'Desvio Padrao: {scores['test_accuracy'].std():0.2}')"
   ]
  },
  {
   "cell_type": "markdown",
   "metadata": {},
   "source": [
    "# Naive Bayes"
   ]
  },
  {
   "cell_type": "code",
   "execution_count": null,
   "metadata": {},
   "outputs": [],
   "source": [
    "from sklearn.naive_bayes import MultinomialNB\n",
    "\n",
    "mnb = MultinomialNB()\n",
    "\n",
    "param_grid = {\n",
    "\t'alpha': [1, 0.5],\n",
    "}\n",
    "\n",
    "grid_search = GridSearchCV(mnb, param_grid, cv=skf, scoring=['f1_weighted', 'accuracy'], n_jobs=-1, refit='f1_weighted')\n",
    "grid_search.fit(X_train, y_train)\n",
    "\n",
    "print(f'Melhores parametros: {grid_search.best_params_}')\n",
    "print(f'Melhor score: {grid_search.best_score_}')"
   ]
  },
  {
   "cell_type": "code",
   "execution_count": null,
   "metadata": {},
   "outputs": [],
   "source": [
    "from sklearn.metrics import accuracy_score, f1_score\n",
    "\n",
    "y_pred = grid_search.best_estimator_.predict(X_test)\n",
    "\n",
    "accuracy = accuracy_score(y_test, y_pred)\n",
    "f1 = f1_score(y_test, y_pred, average='weighted')\n",
    "\n",
    "print(f'Naive Bayes:')\n",
    "print(f'\\tAccuracia: {accuracy:0.2}')\n",
    "print(f'\\tF1 score: {f1:0.2}')"
   ]
  },
  {
   "cell_type": "code",
   "execution_count": null,
   "metadata": {},
   "outputs": [],
   "source": [
    "scores = cross_validate(grid_search.best_estimator_, X, classes, scoring=['accuracy', 'f1_weighted'], cv=skf, return_train_score=False)\n",
    "\n",
    "for i in range(SPLITS):\n",
    "\tprint(f'Fold {i+1}:')\n",
    "\tprint(f'\\tAccuracia: {scores['test_accuracy'][i]:0.2}')\n",
    "\tprint(f'\\tF1 score: {scores['test_f1_weighted'][i]:0.2}')\n",
    "\n",
    "print(f'Media: {scores['test_accuracy'].mean():0.2}')\n",
    "print(f'Desvio Padrao: {scores['test_accuracy'].std():0.2}')"
   ]
  },
  {
   "cell_type": "markdown",
   "metadata": {},
   "source": [
    "# Regressão Logística"
   ]
  },
  {
   "cell_type": "code",
   "execution_count": null,
   "metadata": {},
   "outputs": [],
   "source": [
    "from sklearn.linear_model import LogisticRegression\n",
    "\n",
    "lr = LogisticRegression()\n",
    "\n",
    "param_grid = {\n",
    "\t'penalty': ['l2', None],\n",
    "\t'random_state': [42],\n",
    "}\n",
    "\n",
    "grid_search = GridSearchCV(lr, param_grid, cv=skf, scoring=['f1_weighted', 'accuracy'], n_jobs=-1, refit='f1_weighted')\n",
    "grid_search.fit(X_train, y_train)\n",
    "\n",
    "print(f'Melhores parametros: {grid_search.best_params_}')\n",
    "print(f'Melhor score: {grid_search.best_score_}')\n"
   ]
  },
  {
   "cell_type": "code",
   "execution_count": null,
   "metadata": {},
   "outputs": [],
   "source": [
    "from sklearn.metrics import accuracy_score, f1_score\n",
    "\n",
    "y_pred = grid_search.best_estimator_.predict(X_test)\n",
    "\n",
    "accuracy = accuracy_score(y_test, y_pred)\n",
    "f1 = f1_score(y_test, y_pred, average='weighted')\n",
    "\n",
    "print(f'Regressão Logística:')\n",
    "print(f'\\tAccuracia: {accuracy:0.2}')\n",
    "print(f'\\tF1 score: {f1:0.2}')"
   ]
  },
  {
   "cell_type": "code",
   "execution_count": null,
   "metadata": {},
   "outputs": [],
   "source": [
    "scores = cross_validate(grid_search.best_estimator_, X, classes, scoring=['accuracy', 'f1_weighted'], cv=skf, return_train_score=False)\n",
    "\n",
    "for i in range(SPLITS):\n",
    "\tprint(f'Fold {i+1}:')\n",
    "\tprint(f'\\tAccuracia: {scores['test_accuracy'][i]:0.2}')\n",
    "\tprint(f'\\tF1 score: {scores['test_f1_weighted'][i]:0.2}')\n",
    "\n",
    "print(f'Media: {scores['test_accuracy'].mean():0.2}')\n",
    "print(f'Desvio Padrao: {scores['test_accuracy'].std():0.2}')"
   ]
  },
  {
   "cell_type": "markdown",
   "metadata": {},
   "source": [
    "# Rede Neural MLP"
   ]
  },
  {
   "cell_type": "code",
   "execution_count": null,
   "metadata": {},
   "outputs": [],
   "source": [
    "from sklearn.neural_network import MLPClassifier\n",
    "\n",
    "mlp = MLPClassifier()\n",
    "\n",
    "param_grid = {\n",
    "\t'hidden_layer_sizes': [(50, 50), (100, 100)],\n",
    "\t'random_state': [42],\n",
    "}\n",
    "\n",
    "grid_search = GridSearchCV(mlp, param_grid, cv=skf, scoring=['f1_weighted', 'accuracy'], n_jobs=-1, refit='f1_weighted')\n",
    "grid_search.fit(X_train, y_train)\n",
    "\n",
    "print(f'Melhores parametros: {grid_search.best_params_}')\n",
    "print(f'Melhor score: {grid_search.best_score_}')"
   ]
  },
  {
   "cell_type": "code",
   "execution_count": null,
   "metadata": {},
   "outputs": [],
   "source": [
    "from sklearn.metrics import accuracy_score, f1_score\n",
    "\n",
    "y_pred = grid_search.best_estimator_.predict(X_test)\n",
    "\n",
    "accuracy = accuracy_score(y_test, y_pred)\n",
    "f1 = f1_score(y_test, y_pred, average='weighted')\n",
    "\n",
    "print(f'Regressão Logística:')\n",
    "print(f'\\tAccuracia: {accuracy:0.2}')\n",
    "print(f'\\tF1 score: {f1:0.2}')"
   ]
  },
  {
   "cell_type": "code",
   "execution_count": null,
   "metadata": {},
   "outputs": [],
   "source": [
    "scores = cross_validate(grid_search.best_estimator_, X, classes, scoring=['accuracy', 'f1_weighted'], cv=skf, return_train_score=False)\n",
    "\n",
    "for i in range(SPLITS):\n",
    "\tprint(f'Fold {i+1}:')\n",
    "\tprint(f'\\tAccuracia: {scores['test_accuracy'][i]:0.2}')\n",
    "\tprint(f'\\tF1 score: {scores['test_f1_weighted'][i]:0.2}')\n",
    "\n",
    "print(f'Media: {scores['test_accuracy'].mean():0.2}')\n",
    "print(f'Desvio Padrao: {scores['test_accuracy'].std():0.2}')"
   ]
  }
 ],
 "metadata": {
  "language_info": {
   "name": "python"
  }
 },
 "nbformat": 4,
 "nbformat_minor": 2
}
